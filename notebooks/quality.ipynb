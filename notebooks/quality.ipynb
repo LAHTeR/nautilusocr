{
 "cells": [
  {
   "cell_type": "code",
   "execution_count": 25,
   "metadata": {},
   "outputs": [
    {
     "name": "stdout",
     "output_type": "stream",
     "text": [
      "Requirement already satisfied: spylls in /Users/carstenschnober/opt/anaconda3/envs/lahter/lib/python3.10/site-packages (0.1.7)\n",
      "Note: you may need to restart the kernel to use updated packages.\n"
     ]
    }
   ],
   "source": [
    "%pip install spylls"
   ]
  },
  {
   "cell_type": "code",
   "execution_count": 26,
   "metadata": {},
   "outputs": [],
   "source": [
    "from pathlib import Path\n",
    "\n",
    "LANGUAGE = \"nl\"\n",
    "\n",
    "HUNSPELL_DICT_PATH = Path(\"/Users/carstenschnober/LAHTeR/workspace/opentaal-hunspell\")\n",
    "SUFFIXES = [\".aff\", \".dic\"]\n",
    "\n",
    "assert HUNSPELL_DICT_PATH.is_dir()\n",
    "\n",
    "assert all(\n",
    "    (HUNSPELL_DICT_PATH / Path(LANGUAGE).with_suffix(suffix)).is_file()\n",
    "    for suffix in [\".aff\", \".dic\"]\n",
    ")\n",
    "\n"
   ]
  },
  {
   "cell_type": "code",
   "execution_count": 27,
   "metadata": {},
   "outputs": [],
   "source": [
    "from spylls.hunspell import Dictionary\n",
    "\n",
    "hunspell = Dictionary.from_files(str(HUNSPELL_DICT_PATH / Path(LANGUAGE)))"
   ]
  },
  {
   "cell_type": "code",
   "execution_count": 28,
   "metadata": {},
   "outputs": [
    {
     "data": {
      "text/plain": [
       "False"
      ]
     },
     "execution_count": 28,
     "metadata": {},
     "output_type": "execute_result"
    }
   ],
   "source": [
    "hunspell.lookup(\"wOorden\")"
   ]
  },
  {
   "cell_type": "code",
   "execution_count": 29,
   "metadata": {},
   "outputs": [],
   "source": [
    "def get_dict_score(tokens):\n",
    "\n",
    "    matched_count = 0\n",
    "    total_count = 0\n",
    "\n",
    "    for token in tokens:\n",
    "        total_count += len(token)\n",
    "\n",
    "        # TODO: lowercase token?\n",
    "        matched_count += hunspell.lookup(token) * len(token)\n",
    "\n",
    "    return matched_count / total_count\n",
    "\n"
   ]
  },
  {
   "cell_type": "code",
   "execution_count": 30,
   "metadata": {},
   "outputs": [
    {
     "data": {
      "text/plain": [
       "0.6666666666666666"
      ]
     },
     "execution_count": 30,
     "metadata": {},
     "output_type": "execute_result"
    }
   ],
   "source": [
    "tokens = [\"Dit\", \"is\", \"een\", \"text\"]\n",
    "\n",
    "get_dict_score(tokens)"
   ]
  }
 ],
 "metadata": {
  "kernelspec": {
   "display_name": "lahter",
   "language": "python",
   "name": "python3"
  },
  "language_info": {
   "codemirror_mode": {
    "name": "ipython",
    "version": 3
   },
   "file_extension": ".py",
   "mimetype": "text/x-python",
   "name": "python",
   "nbconvert_exporter": "python",
   "pygments_lexer": "ipython3",
   "version": "3.11.0"
  },
  "orig_nbformat": 4
 },
 "nbformat": 4,
 "nbformat_minor": 2
}
